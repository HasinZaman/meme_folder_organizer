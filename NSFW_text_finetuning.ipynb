{
 "cells": [
  {
   "cell_type": "markdown",
   "metadata": {},
   "source": [
    "# Import Typing"
   ]
  },
  {
   "cell_type": "code",
   "execution_count": 1,
   "metadata": {},
   "outputs": [],
   "source": [
    "from typing import List, Tuple"
   ]
  },
  {
   "cell_type": "markdown",
   "metadata": {},
   "source": [
    "# Loading ENV"
   ]
  },
  {
   "cell_type": "code",
   "execution_count": 2,
   "metadata": {},
   "outputs": [
    {
     "data": {
      "text/plain": [
       "True"
      ]
     },
     "execution_count": 2,
     "metadata": {},
     "output_type": "execute_result"
    }
   ],
   "source": [
    "from dotenv import load_dotenv\n",
    "import os\n",
    "\n",
    "load_dotenv()"
   ]
  },
  {
   "cell_type": "code",
   "execution_count": 3,
   "metadata": {},
   "outputs": [],
   "source": [
    "from pathlib import Path\n",
    "\n",
    "MODEL_DIR: Path = Path(os.environ['MODEL_DIR'])\n",
    "FINE_TUNE_DIR: str = MODEL_DIR/\"fine_tuned\""
   ]
  },
  {
   "cell_type": "markdown",
   "metadata": {},
   "source": [
    "# Load dataset"
   ]
  },
  {
   "cell_type": "code",
   "execution_count": 4,
   "metadata": {},
   "outputs": [],
   "source": [
    "from functional import seq, pseq\n",
    "import random as r"
   ]
  },
  {
   "cell_type": "code",
   "execution_count": 5,
   "metadata": {},
   "outputs": [],
   "source": [
    "with open(\"training_dataset\\kaggle_reddit-nsfw-classification-data.csv\", \"r\", encoding=\"utf8\") as f:\n",
    "    content: str = f.read()\n",
    "\n",
    "data: List[Tuple[str, bool]] = (seq(content.split(\"\\n\"))\n",
    "    .map(lambda line: line.strip())\n",
    "    .filter(lambda line: line)\n",
    "    .drop(1)\n",
    "    .map(lambda line: line.split(\",\"))\n",
    "    .filter(lambda line: len(line) > 3)\n",
    "    .map(lambda line: (\n",
    "        \",\".join(line[:-2]),\n",
    "        True if line[-1].strip().lower() == \"true\" else False\n",
    "    ))\n",
    "    .group_by(lambda line: line[1])\n",
    "    .list()\n",
    ")\n",
    "\n",
    "positive = (seq(data)\n",
    "    .filter(lambda x: x[0])\n",
    "    .map(lambda group: group[1])\n",
    "    .flatten()\n",
    "    .list()\n",
    ")\n",
    "negative = (seq(data)\n",
    "    .filter(lambda x: not x[0])\n",
    "    .map(lambda group: group[1])\n",
    "    .flatten()\n",
    "    .list()\n",
    ")\n",
    "\n",
    "data = positive[:min(len(negative), len(positive))] + negative[:min(len(negative), len(positive))]\n",
    "\n",
    "r.seed(42069) #my favorite number\n",
    "\n",
    "r.shuffle(data)\n",
    "\n",
    "split_index = len(data)*3//4\n",
    "\n",
    "training: List[Tuple[str, bool]] = data[:split_index][:3400]\n",
    "eval: List[Tuple[str, bool]] = data[split_index:]\n",
    "r.shuffle(training)\n",
    "r.shuffle(eval)"
   ]
  },
  {
   "cell_type": "code",
   "execution_count": 6,
   "metadata": {},
   "outputs": [
    {
     "data": {
      "text/plain": [
       "[(True, 1685), (False, 1715)]"
      ]
     },
     "execution_count": 6,
     "metadata": {},
     "output_type": "execute_result"
    }
   ],
   "source": [
    "seq(training).group_by(lambda x: x[1]).map(lambda x: (x[0], len(x[1]))).list()"
   ]
  },
  {
   "cell_type": "code",
   "execution_count": 7,
   "metadata": {},
   "outputs": [
    {
     "data": {
      "text/plain": [
       "[(True, 2773), (False, 2664)]"
      ]
     },
     "execution_count": 7,
     "metadata": {},
     "output_type": "execute_result"
    }
   ],
   "source": [
    "seq(eval).group_by(lambda x: x[1]).map(lambda x: (x[0], len(x[1]))).list()"
   ]
  },
  {
   "cell_type": "markdown",
   "metadata": {},
   "source": [
    "# DUMB DATA LOADER STUFF"
   ]
  },
  {
   "cell_type": "code",
   "execution_count": 8,
   "metadata": {},
   "outputs": [],
   "source": [
    "import torch\n",
    "from torch.utils.data import Dataset, DataLoader\n",
    "\n",
    "class NSFWDataset(Dataset):\n",
    "    def __init__(self, data: List[Tuple[str, bool]], tokenizer, device, batch_size=32):\n",
    "        self.batch_size = batch_size\n",
    "        self.data = data\n",
    "        self.tokenized_data = self.tokenize_data(tokenizer, device)\n",
    "\n",
    "    def tokenize_data(self, tokenizer, device):\n",
    "        tokenized_data = []\n",
    "        for i in range(0, len(self.data), self.batch_size):\n",
    "            batch = self.data[i:i + self.batch_size]\n",
    "            input_ids_batch = []\n",
    "            attention_mask_batch = []\n",
    "            label_tensor_batch = []\n",
    "            for text, label in batch:\n",
    "                encoding = tokenizer.encode_plus(\n",
    "                    text,\n",
    "                    add_special_tokens=True,\n",
    "                    max_length=512,\n",
    "                    padding='max_length',\n",
    "                    truncation=True,\n",
    "                    return_tensors='pt'\n",
    "                )\n",
    "                input_ids_batch.append(encoding['input_ids'].squeeze(0))\n",
    "                attention_mask_batch.append(encoding['attention_mask'].squeeze(0))\n",
    "                label_tensor = torch.tensor(label, dtype=torch.float32)\n",
    "                label_tensor_batch.append(label_tensor)\n",
    "\n",
    "            input_ids_batch = torch.stack(input_ids_batch)\n",
    "            attention_mask_batch = torch.stack(attention_mask_batch)\n",
    "            label_tensor_batch = torch.stack(label_tensor_batch)\n",
    "            tokenized_data.append((input_ids_batch, attention_mask_batch, label_tensor_batch))\n",
    "        return tokenized_data\n",
    "\n",
    "    def __len__(self):\n",
    "        return len(self.tokenized_data)\n",
    "\n",
    "    def __getitem__(self, idx):\n",
    "        return self.tokenized_data[idx]"
   ]
  },
  {
   "cell_type": "markdown",
   "metadata": {},
   "source": [
    "# Load DeBERTaV3 Model"
   ]
  },
  {
   "cell_type": "code",
   "execution_count": 9,
   "metadata": {},
   "outputs": [
    {
     "name": "stderr",
     "output_type": "stream",
     "text": [
      "c:\\Users\\hasin\\AppData\\Local\\Programs\\Python\\Python311\\Lib\\site-packages\\tqdm\\auto.py:21: TqdmWarning: IProgress not found. Please update jupyter and ipywidgets. See https://ipywidgets.readthedocs.io/en/stable/user_install.html\n",
      "  from .autonotebook import tqdm as notebook_tqdm\n"
     ]
    }
   ],
   "source": [
    "import torch\n",
    "from torch.optim import AdamW\n",
    "\n",
    "from transformers import AutoModelForSequenceClassification, AutoTokenizer, AutoConfig, get_scheduler"
   ]
  },
  {
   "cell_type": "code",
   "execution_count": 10,
   "metadata": {},
   "outputs": [],
   "source": [
    "device = torch.device(\"cuda\") if torch.cuda.is_available() else torch.device(\"cpu\")"
   ]
  },
  {
   "cell_type": "code",
   "execution_count": 11,
   "metadata": {},
   "outputs": [],
   "source": [
    "config = AutoConfig.from_pretrained(\n",
    "    f\"{MODEL_DIR}\\\\base\\\\deberta-v3-base\\\\\",\n",
    "    local_files_only=True\n",
    ")"
   ]
  },
  {
   "cell_type": "code",
   "execution_count": 12,
   "metadata": {},
   "outputs": [
    {
     "name": "stderr",
     "output_type": "stream",
     "text": [
      "Some weights of DebertaV2ForSequenceClassification were not initialized from the model checkpoint at D:\\Documents\\models\\base\\deberta-v3-base\\ and are newly initialized: ['classifier.bias', 'classifier.weight', 'pooler.dense.bias', 'pooler.dense.weight']\n",
      "You should probably TRAIN this model on a down-stream task to be able to use it for predictions and inference.\n"
     ]
    },
    {
     "data": {
      "text/plain": [
       "DebertaV2ForSequenceClassification(\n",
       "  (deberta): DebertaV2Model(\n",
       "    (embeddings): DebertaV2Embeddings(\n",
       "      (word_embeddings): Embedding(128100, 768, padding_idx=0)\n",
       "      (LayerNorm): LayerNorm((768,), eps=1e-07, elementwise_affine=True)\n",
       "      (dropout): StableDropout()\n",
       "    )\n",
       "    (encoder): DebertaV2Encoder(\n",
       "      (layer): ModuleList(\n",
       "        (0-11): 12 x DebertaV2Layer(\n",
       "          (attention): DebertaV2Attention(\n",
       "            (self): DisentangledSelfAttention(\n",
       "              (query_proj): Linear(in_features=768, out_features=768, bias=True)\n",
       "              (key_proj): Linear(in_features=768, out_features=768, bias=True)\n",
       "              (value_proj): Linear(in_features=768, out_features=768, bias=True)\n",
       "              (pos_dropout): StableDropout()\n",
       "              (dropout): StableDropout()\n",
       "            )\n",
       "            (output): DebertaV2SelfOutput(\n",
       "              (dense): Linear(in_features=768, out_features=768, bias=True)\n",
       "              (LayerNorm): LayerNorm((768,), eps=1e-07, elementwise_affine=True)\n",
       "              (dropout): StableDropout()\n",
       "            )\n",
       "          )\n",
       "          (intermediate): DebertaV2Intermediate(\n",
       "            (dense): Linear(in_features=768, out_features=3072, bias=True)\n",
       "            (intermediate_act_fn): GELUActivation()\n",
       "          )\n",
       "          (output): DebertaV2Output(\n",
       "            (dense): Linear(in_features=3072, out_features=768, bias=True)\n",
       "            (LayerNorm): LayerNorm((768,), eps=1e-07, elementwise_affine=True)\n",
       "            (dropout): StableDropout()\n",
       "          )\n",
       "        )\n",
       "      )\n",
       "      (rel_embeddings): Embedding(512, 768)\n",
       "      (LayerNorm): LayerNorm((768,), eps=1e-07, elementwise_affine=True)\n",
       "    )\n",
       "  )\n",
       "  (pooler): ContextPooler(\n",
       "    (dense): Linear(in_features=768, out_features=768, bias=True)\n",
       "    (dropout): StableDropout()\n",
       "  )\n",
       "  (classifier): Linear(in_features=768, out_features=2, bias=True)\n",
       "  (dropout): StableDropout()\n",
       ")"
      ]
     },
     "execution_count": 12,
     "metadata": {},
     "output_type": "execute_result"
    }
   ],
   "source": [
    "model = AutoModelForSequenceClassification.from_pretrained(\n",
    "    f\"{MODEL_DIR}\\\\base\\\\deberta-v3-base\\\\\",\n",
    "    local_files_only=True,\n",
    "    config =config\n",
    ")\n",
    "model.to(device)\n",
    "model.train()"
   ]
  },
  {
   "cell_type": "code",
   "execution_count": 13,
   "metadata": {},
   "outputs": [
    {
     "name": "stderr",
     "output_type": "stream",
     "text": [
      "c:\\Users\\hasin\\AppData\\Local\\Programs\\Python\\Python311\\Lib\\site-packages\\transformers\\convert_slow_tokenizer.py:560: UserWarning: The sentencepiece tokenizer that you are converting to a fast tokenizer uses the byte fallback option which is not implemented in the fast tokenizers. In practice this means that the fast version of the tokenizer can produce unknown tokens whereas the sentencepiece version would have converted these unknown tokens into a sequence of byte tokens matching the original piece of text.\n",
      "  warnings.warn(\n"
     ]
    }
   ],
   "source": [
    "tokenizer = AutoTokenizer.from_pretrained(\n",
    "    f\"{MODEL_DIR}\\\\base\\\\deberta-v3-base\\\\\",\n",
    "    local_files_only=True\n",
    ")"
   ]
  },
  {
   "cell_type": "code",
   "execution_count": 14,
   "metadata": {},
   "outputs": [],
   "source": [
    "train_dataloader = NSFWDataset(training, tokenizer, device, 32)"
   ]
  },
  {
   "cell_type": "code",
   "execution_count": 15,
   "metadata": {},
   "outputs": [],
   "source": [
    "optimizer = AdamW(model.parameters(), lr=5e-5)"
   ]
  },
  {
   "cell_type": "code",
   "execution_count": 16,
   "metadata": {},
   "outputs": [],
   "source": [
    "num_epochs = 1\n",
    "num_training_steps = num_epochs * len(training)\n",
    "lr_scheduler = get_scheduler(\n",
    "    name=\"linear\", optimizer=optimizer, num_warmup_steps=0, num_training_steps=num_training_steps\n",
    ")"
   ]
  },
  {
   "cell_type": "code",
   "execution_count": 17,
   "metadata": {},
   "outputs": [],
   "source": [
    "for batch in train_dataloader:\n",
    "    input_ids, attention_mask, labels = batch\n",
    "    input_ids = input_ids\n",
    "    attention_mask = attention_mask\n",
    "    labels = labels\n",
    "\n",
    "    outputs = model(input_ids=input_ids.to(device), attention_mask=attention_mask.to(device), labels=labels.to(device))\n",
    "    loss = outputs.loss\n",
    "    loss.backward()\n",
    "\n",
    "    optimizer.step()\n",
    "    lr_scheduler.step()\n",
    "    optimizer.zero_grad()"
   ]
  },
  {
   "cell_type": "markdown",
   "metadata": {},
   "source": [
    "# Save model"
   ]
  },
  {
   "cell_type": "code",
   "execution_count": null,
   "metadata": {},
   "outputs": [],
   "source": [
    "model.save_pretrained(f\"{MODEL_DIR}\\\\fine_tuned\\\\deberta-v3-base-nsfw\\\\\", over_write=True)\n",
    "tokenizer.save(f\"{MODEL_DIR}\\\\fine_tuned\\\\deberta-v3-base-nsfw\\\\tokenizer_config.json\", over_write=True)"
   ]
  },
  {
   "cell_type": "markdown",
   "metadata": {},
   "source": [
    "# Evaluation"
   ]
  },
  {
   "cell_type": "code",
   "execution_count": null,
   "metadata": {},
   "outputs": [],
   "source": [
    "true_positive, false_positive, true_negative, false_negative = 0,0,0,0"
   ]
  },
  {
   "cell_type": "code",
   "execution_count": null,
   "metadata": {},
   "outputs": [
    {
     "data": {
      "text/plain": [
       "(1, 0, 0, 0)"
      ]
     },
     "execution_count": 43,
     "metadata": {},
     "output_type": "execute_result"
    }
   ],
   "source": [
    "import numpy as np\n",
    "\n",
    "model.eval()\n",
    "model.to(device)\n",
    "\n",
    "for text, label in eval:\n",
    "    inputs = tokenizer.encode(\n",
    "        text,\n",
    "        add_special_tokens=True,\n",
    "        max_length=512,\n",
    "        padding='max_length',\n",
    "        truncation=True,\n",
    "        return_tensors='pt'\n",
    "    )\n",
    "\n",
    "    with torch.no_grad():\n",
    "        logits = model(inputs.to(device)).logits\n",
    "\n",
    "    prediction = logits.argmax().item()\n",
    "\n",
    "    match (label, prediction):\n",
    "        case (True, 1):\n",
    "            true_positive +=1\n",
    "        case (True, 0):\n",
    "            false_negative +=1\n",
    "        case (False, 1):\n",
    "            false_positive +=1\n",
    "        case (False, 0):\n",
    "            true_negative +=1\n",
    "\n",
    "true_positive, false_positive, true_negative, false_negative"
   ]
  }
 ],
 "metadata": {
  "kernelspec": {
   "display_name": "Python 3",
   "language": "python",
   "name": "python3"
  },
  "language_info": {
   "codemirror_mode": {
    "name": "ipython",
    "version": 3
   },
   "file_extension": ".py",
   "mimetype": "text/x-python",
   "name": "python",
   "nbconvert_exporter": "python",
   "pygments_lexer": "ipython3",
   "version": "3.11.4"
  }
 },
 "nbformat": 4,
 "nbformat_minor": 2
}
